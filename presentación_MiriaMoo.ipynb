{
 "cells": [
  {
   "cell_type": "code",
   "execution_count": 1,
   "metadata": {
    "id": "S6c69fc-BgF2"
   },
   "outputs": [],
   "source": [
    "import numpy as np\n",
    "np.random.seed(4)\n",
    "import matplotlib.pyplot as plt\n",
    "import pandas as pd\n",
    "import pandas_datareader.data as web\n",
    "import datetime"
   ]
  },
  {
   "cell_type": "code",
   "execution_count": 1,
   "metadata": {},
   "outputs": [
    {
     "name": "stdout",
     "output_type": "stream",
     "text": [
      "Collecting pandas-datareader\n",
      "  Downloading pandas_datareader-0.9.0-py3-none-any.whl (107 kB)\n",
      "Requirement already satisfied: requests>=2.19.0 in c:\\users\\mairi\\anaconda3\\lib\\site-packages (from pandas-datareader) (2.24.0)\n",
      "Requirement already satisfied: pandas>=0.23 in c:\\users\\mairi\\anaconda3\\lib\\site-packages (from pandas-datareader) (1.1.4)\n",
      "Collecting lxml\n",
      "  Downloading lxml-4.6.2-cp38-cp38-win_amd64.whl (3.5 MB)\n",
      "Requirement already satisfied: chardet<4,>=3.0.2 in c:\\users\\mairi\\anaconda3\\lib\\site-packages (from requests>=2.19.0->pandas-datareader) (3.0.4)\n",
      "Requirement already satisfied: idna<3,>=2.5 in c:\\users\\mairi\\anaconda3\\lib\\site-packages (from requests>=2.19.0->pandas-datareader) (2.10)\n",
      "Requirement already satisfied: urllib3!=1.25.0,!=1.25.1,<1.26,>=1.21.1 in c:\\users\\mairi\\anaconda3\\lib\\site-packages (from requests>=2.19.0->pandas-datareader) (1.25.11)\n",
      "Requirement already satisfied: certifi>=2017.4.17 in c:\\users\\mairi\\anaconda3\\lib\\site-packages (from requests>=2.19.0->pandas-datareader) (2020.12.5)\n",
      "Requirement already satisfied: python-dateutil>=2.7.3 in c:\\users\\mairi\\anaconda3\\lib\\site-packages (from pandas>=0.23->pandas-datareader) (2.8.1)\n",
      "Note: you may need to restart the kernel to use updated packages.\n",
      "Requirement already satisfied: pytz>=2017.2 in c:\\users\\mairi\\anaconda3\\lib\\site-packages (from pandas>=0.23->pandas-datareader) (2020.1)\n",
      "Requirement already satisfied: numpy>=1.15.4 in c:\\users\\mairi\\anaconda3\\lib\\site-packages (from pandas>=0.23->pandas-datareader) (1.19.4)\n",
      "Requirement already satisfied: six>=1.5 in c:\\users\\mairi\\anaconda3\\lib\\site-packages (from python-dateutil>=2.7.3->pandas>=0.23->pandas-datareader) (1.15.0)\n",
      "Installing collected packages: lxml, pandas-datareader\n",
      "Successfully installed lxml-4.6.2 pandas-datareader-0.9.0\n"
     ]
    }
   ],
   "source": [
    "pip install pandas-datareader"
   ]
  },
  {
   "cell_type": "code",
   "execution_count": 2,
   "metadata": {
    "id": "8bMQ1IYJBgGe"
   },
   "outputs": [],
   "source": [
    "from sklearn.preprocessing import MinMaxScaler\n",
    "from keras.layers import Dense, LSTM\n",
    "from keras.models import Sequential"
   ]
  },
  {
   "cell_type": "code",
   "execution_count": 3,
   "metadata": {
    "id": "iTWe1pMPBgGi"
   },
   "outputs": [],
   "source": [
    "#\n",
    "# Funciones auxiliares\n",
    "#\n",
    "def graficar_predicciones(real, prediccion):\n",
    "    plt.plot(real[0:len(prediccion)],color='red', label='Valor real de la acción')\n",
    "    plt.plot(prediccion, color='blue', label='Predicción de la acción')\n",
    "    plt.ylim(1.1 * np.min(prediccion)/2, 1.1 * np.max(prediccion))\n",
    "    plt.xlabel('Tiempo')\n",
    "    plt.ylabel('Valor de la acción')\n",
    "    plt.legend()\n",
    "    plt.show()"
   ]
  },
  {
   "cell_type": "code",
   "execution_count": 4,
   "metadata": {
    "colab": {
     "base_uri": "https://localhost:8080/",
     "height": 238
    },
    "id": "glBn7jm-BgGo",
    "outputId": "6d4cd7f6-122f-431f-81ab-03e0bc8f03ef"
   },
   "outputs": [
    {
     "data": {
      "text/html": [
       "<div>\n",
       "<style scoped>\n",
       "    .dataframe tbody tr th:only-of-type {\n",
       "        vertical-align: middle;\n",
       "    }\n",
       "\n",
       "    .dataframe tbody tr th {\n",
       "        vertical-align: top;\n",
       "    }\n",
       "\n",
       "    .dataframe thead th {\n",
       "        text-align: right;\n",
       "    }\n",
       "</style>\n",
       "<table border=\"1\" class=\"dataframe\">\n",
       "  <thead>\n",
       "    <tr style=\"text-align: right;\">\n",
       "      <th></th>\n",
       "      <th>High</th>\n",
       "      <th>Low</th>\n",
       "      <th>Open</th>\n",
       "      <th>Close</th>\n",
       "      <th>Volume</th>\n",
       "      <th>Adj Close</th>\n",
       "    </tr>\n",
       "    <tr>\n",
       "      <th>Date</th>\n",
       "      <th></th>\n",
       "      <th></th>\n",
       "      <th></th>\n",
       "      <th></th>\n",
       "      <th></th>\n",
       "      <th></th>\n",
       "    </tr>\n",
       "  </thead>\n",
       "  <tbody>\n",
       "    <tr>\n",
       "      <th>2015-01-01</th>\n",
       "      <td>189.720001</td>\n",
       "      <td>182.089996</td>\n",
       "      <td>189.289993</td>\n",
       "      <td>182.990005</td>\n",
       "      <td>51629600.0</td>\n",
       "      <td>162.489365</td>\n",
       "    </tr>\n",
       "    <tr>\n",
       "      <th>2015-02-01</th>\n",
       "      <td>194.649994</td>\n",
       "      <td>181.470001</td>\n",
       "      <td>183.500000</td>\n",
       "      <td>193.199997</td>\n",
       "      <td>30737100.0</td>\n",
       "      <td>171.555527</td>\n",
       "    </tr>\n",
       "    <tr>\n",
       "      <th>2015-03-01</th>\n",
       "      <td>194.470001</td>\n",
       "      <td>187.149994</td>\n",
       "      <td>193.309998</td>\n",
       "      <td>189.199997</td>\n",
       "      <td>35632400.0</td>\n",
       "      <td>168.003632</td>\n",
       "    </tr>\n",
       "    <tr>\n",
       "      <th>2015-04-01</th>\n",
       "      <td>194.740005</td>\n",
       "      <td>187.470001</td>\n",
       "      <td>189.169998</td>\n",
       "      <td>191.100006</td>\n",
       "      <td>30252000.0</td>\n",
       "      <td>170.556534</td>\n",
       "    </tr>\n",
       "    <tr>\n",
       "      <th>2015-05-01</th>\n",
       "      <td>195.949997</td>\n",
       "      <td>189.529999</td>\n",
       "      <td>191.960007</td>\n",
       "      <td>193.490005</td>\n",
       "      <td>25759100.0</td>\n",
       "      <td>172.689636</td>\n",
       "    </tr>\n",
       "  </tbody>\n",
       "</table>\n",
       "</div>"
      ],
      "text/plain": [
       "                  High         Low        Open       Close      Volume  \\\n",
       "Date                                                                     \n",
       "2015-01-01  189.720001  182.089996  189.289993  182.990005  51629600.0   \n",
       "2015-02-01  194.649994  181.470001  183.500000  193.199997  30737100.0   \n",
       "2015-03-01  194.470001  187.149994  193.309998  189.199997  35632400.0   \n",
       "2015-04-01  194.740005  187.470001  189.169998  191.100006  30252000.0   \n",
       "2015-05-01  195.949997  189.529999  191.960007  193.490005  25759100.0   \n",
       "\n",
       "             Adj Close  \n",
       "Date                    \n",
       "2015-01-01  162.489365  \n",
       "2015-02-01  171.555527  \n",
       "2015-03-01  168.003632  \n",
       "2015-04-01  170.556534  \n",
       "2015-05-01  172.689636  "
      ]
     },
     "execution_count": 4,
     "metadata": {},
     "output_type": "execute_result"
    }
   ],
   "source": [
    "#\n",
    "# Lectura de los datos\n",
    "#\n",
    "#dataset = pd.read_csv('Futuros del Índice S&P 500 - Este es el bueno.csv', index_col='Fecha', parse_dates=['Fecha'])\n",
    "#dataset.head()\n",
    "start = datetime.datetime(2015,1,1)\n",
    "end = datetime.datetime(2020,12,31)\n",
    "dataset = web.get_data_yahoo('VOO','01/01/2015',interval='m')\n",
    "dataset.head()"
   ]
  },
  {
   "cell_type": "code",
   "execution_count": 7,
   "metadata": {
    "colab": {
     "base_uri": "https://localhost:8080/",
     "height": 279
    },
    "id": "dSadYSVgBgG6",
    "outputId": "7c882209-2836-4158-fe7e-69e2d3e606e7"
   },
   "outputs": [
    {
     "data": {
      "image/png": "[encoded data removed]",
      "text/plain": [
       "<Figure size 432x288 with 1 Axes>"
      ]
     },
     "metadata": {
      "needs_background": "light"
     },
     "output_type": "display_data"
    }
   ],
   "source": [
    "#\n",
    "# Sets de entrenamiento y validación \n",
    "# La LSTM se entrenará con datos de 2016 hacia atrás. La validación se hará con datos de 2017 en adelante.\n",
    "# En ambos casos sólo se usará el valor más alto de la acción para cada día\n",
    "#\n",
    "\n",
    "set_entrenamiento = dataset['2015':'2019'].iloc[:,3:4]\n",
    "set_validacion = dataset['2020':].iloc[:,3:4]\n",
    "set_entrenamiento['Close'].plot(legend=True)\n",
    "set_validacion['Close'].plot(legend=True)\n",
    "plt.legend(['Entrenamiento (Ene 2015-Dic 2019)', 'Validacion (Ene 2020 - Actualidad)'])\n",
    "plt.show()"
   ]
  },
  {
   "cell_type": "code",
   "execution_count": 8,
   "metadata": {
    "colab": {
     "base_uri": "https://localhost:8080/"
    },
    "id": "yZfQMFJvBgHG",
    "outputId": "62d42de7-5a1d-4aca-bed2-5e18fe5148b1"
   },
   "outputs": [
    {
     "name": "stdout",
     "output_type": "stream",
     "text": [
      "MinMaxScaler()\n",
      "                 Close\n",
      "Date                  \n",
      "2015-01-01  182.990005\n",
      "2015-02-01  193.199997\n",
      "2015-03-01  189.199997\n",
      "2015-04-01  191.100006\n",
      "2015-05-01  193.490005\n",
      "2015-06-01  188.839996\n",
      "2015-07-01  192.949997\n",
      "2015-08-01  181.110001\n",
      "2015-09-01  175.710007\n",
      "2015-10-01  190.559998\n",
      "2015-11-01  191.369995\n",
      "2015-12-01  186.929993\n",
      "2016-01-01  177.750000\n",
      "2016-02-01  177.380005\n",
      "2016-03-01  188.559998\n",
      "2016-04-01  189.220001\n",
      "2016-05-01  192.539993\n",
      "2016-06-01  192.199997\n",
      "2016-07-01  199.279999\n",
      "2016-08-01  199.520004\n",
      "2016-09-01  198.690002\n",
      "2016-10-01  195.130005\n",
      "2016-11-01  202.399994\n",
      "2016-12-01  205.309998\n",
      "2017-01-01  208.970001\n",
      "2017-02-01  217.070007\n",
      "2017-03-01  216.350006\n",
      "2017-04-01  218.600006\n",
      "2017-05-01  221.669998\n",
      "2017-06-01  222.059998\n",
      "2017-07-01  226.639999\n",
      "2017-08-01  227.300003\n",
      "2017-09-01  230.759995\n",
      "2017-10-01  236.130005\n",
      "2017-11-01  243.350006\n",
      "2017-12-01  245.289993\n",
      "2018-01-01  258.989990\n",
      "2018-02-01  249.339996\n",
      "2018-03-01  242.080002\n",
      "2018-04-01  242.919998\n",
      "2018-05-01  248.789993\n",
      "2018-06-01  249.509995\n",
      "2018-07-01  258.399994\n",
      "2018-08-01  266.720001\n",
      "2018-09-01  267.049988\n",
      "2018-10-01  248.789993\n",
      "2018-11-01  253.479996\n",
      "2018-12-01  229.809998\n",
      "2019-01-01  248.009995\n",
      "2019-02-01  256.070007\n",
      "2019-03-01  259.540009\n",
      "2019-04-01  270.010010\n",
      "2019-05-01  252.869995\n",
      "2019-06-01  269.149994\n",
      "2019-07-01  273.079987\n",
      "2019-08-01  268.600006\n",
      "2019-09-01  272.600006\n",
      "2019-10-01  278.549988\n",
      "2019-11-01  288.649994\n",
      "2019-12-01  295.799988\n"
     ]
    }
   ],
   "source": [
    "# Normalización del set de entrenamiento\n",
    "sc = MinMaxScaler(feature_range=(0,1))\n",
    "print(sc)\n",
    "print(set_entrenamiento)\n",
    "set_entrenamiento_escalado = sc.fit_transform(set_entrenamiento)"
   ]
  },
  {
   "cell_type": "markdown",
   "metadata": {
    "id": "7mLXvcbvBgHL"
   },
   "source": [
    "## La red LSTM tendrá como entrada \"time_step\" datos consecutivos, y como salida 1 dato (la predicción a\n",
    "# partir de esos \"time_step\" datos). Se conformará de esta forma el set de entrenamiento\n",
    "time_step = 726\n",
    "X_train = []\n",
    "Y_train = []\n",
    "m = len(set_entrenamiento_escalado)"
   ]
  },
  {
   "cell_type": "code",
   "execution_count": 9,
   "metadata": {
    "id": "LPH7Qxe4KibN"
   },
   "outputs": [],
   "source": [
    "time_step = 3\n",
    "X_train = [] \n",
    "Y_train = [] \n",
    "m = len(set_entrenamiento_escalado)"
   ]
  },
  {
   "cell_type": "code",
   "execution_count": 10,
   "metadata": {
    "colab": {
     "base_uri": "https://localhost:8080/"
    },
    "id": "Qr0LzvuRBgHQ",
    "outputId": "dcf7a5b2-6f20-494d-d086-c5d5327be346"
   },
   "outputs": [
    {
     "data": {
      "text/plain": [
       "57"
      ]
     },
     "execution_count": 10,
     "metadata": {},
     "output_type": "execute_result"
    }
   ],
   "source": [
    "for i in range(time_step,m):\n",
    "    # X: bloques de \"time_step\" datos: 0-time_step, 1-time_step+1, 2-time_step+2, etc\n",
    "    X_train.append(set_entrenamiento_escalado[i-time_step:i,0])\n",
    "    # Y: el siguiente dato\n",
    "    Y_train.append(set_entrenamiento_escalado[i,0])\n",
    "X_train, Y_train = np.array(X_train), np.array(Y_train)\n",
    "X_train = np.reshape(X_train, (X_train.shape[0], X_train.shape[1], 1))\n",
    "len(X_train)"
   ]
  },
  {
   "cell_type": "code",
   "execution_count": 11,
   "metadata": {
    "colab": {
     "base_uri": "https://localhost:8080/"
    },
    "id": "okIZxUBSBgHg",
    "outputId": "82d6864b-23d9-4468-8270-911970e8aa73"
   },
   "outputs": [
    {
     "name": "stdout",
     "output_type": "stream",
     "text": [
      "(3, 1)\n",
      "Epoch 1/20\n",
      "5/5 [==============================] - 7s 4ms/step - loss: 0.2163\n",
      "Epoch 2/20\n",
      "5/5 [==============================] - 0s 4ms/step - loss: 0.0695\n",
      "Epoch 3/20\n",
      "5/5 [==============================] - 0s 4ms/step - loss: 0.0253\n",
      "Epoch 4/20\n",
      "5/5 [==============================] - 0s 4ms/step - loss: 0.0223\n",
      "Epoch 5/20\n",
      "5/5 [==============================] - 0s 4ms/step - loss: 0.0166\n",
      "Epoch 6/20\n",
      "5/5 [==============================] - 0s 3ms/step - loss: 0.0106\n",
      "Epoch 7/20\n",
      "5/5 [==============================] - 0s 4ms/step - loss: 0.0111\n",
      "Epoch 8/20\n",
      "5/5 [==============================] - 0s 4ms/step - loss: 0.0099\n",
      "Epoch 9/20\n",
      "5/5 [==============================] - 0s 3ms/step - loss: 0.0105\n",
      "Epoch 10/20\n",
      "5/5 [==============================] - 0s 4ms/step - loss: 0.0075\n",
      "Epoch 11/20\n",
      "5/5 [==============================] - 0s 4ms/step - loss: 0.0075\n",
      "Epoch 12/20\n",
      "5/5 [==============================] - 0s 4ms/step - loss: 0.0076\n",
      "Epoch 13/20\n",
      "5/5 [==============================] - 0s 4ms/step - loss: 0.0076\n",
      "Epoch 14/20\n",
      "5/5 [==============================] - 0s 4ms/step - loss: 0.0073\n",
      "Epoch 15/20\n",
      "5/5 [==============================] - 0s 4ms/step - loss: 0.0067\n",
      "Epoch 16/20\n",
      "5/5 [==============================] - 0s 4ms/step - loss: 0.0062\n",
      "Epoch 17/20\n",
      "5/5 [==============================] - 0s 5ms/step - loss: 0.0070\n",
      "Epoch 18/20\n",
      "5/5 [==============================] - 0s 4ms/step - loss: 0.0065\n",
      "Epoch 19/20\n",
      "5/5 [==============================] - 0s 4ms/step - loss: 0.0059\n",
      "Epoch 20/20\n",
      "5/5 [==============================] - 0s 5ms/step - loss: 0.0072\n"
     ]
    },
    {
     "data": {
      "text/plain": [
       "<tensorflow.python.keras.callbacks.History at 0x2570ad34100>"
      ]
     },
     "execution_count": 11,
     "metadata": {},
     "output_type": "execute_result"
    }
   ],
   "source": [
    "#\n",
    "# Red LSTM\n",
    "#\n",
    "dim_entrada = (X_train.shape[1],1)\n",
    "dim_salida = 1\n",
    "print(dim_entrada)\n",
    "na = 120\n",
    "\n",
    "modelo = Sequential()\n",
    "modelo.add(LSTM(units=na, input_shape=dim_entrada))\n",
    "modelo.add(Dense(units=dim_salida))\n",
    "modelo.compile(optimizer='rmsprop', loss='mse')\n",
    "modelo.fit(X_train,Y_train,epochs=20,batch_size=12)"
   ]
  },
  {
   "cell_type": "code",
   "execution_count": 12,
   "metadata": {
    "colab": {
     "base_uri": "https://localhost:8080/",
     "height": 785
    },
    "id": "C0X8ySdsBgHp",
    "outputId": "2aa6640c-3d2d-4bb5-8c4d-4d550d29c3bd"
   },
   "outputs": [
    {
     "name": "stdout",
     "output_type": "stream",
     "text": [
      "                 Close\n",
      "Date                  \n",
      "2020-01-01  295.690002\n",
      "2020-02-01  271.739990\n",
      "2020-03-01  236.820007\n",
      "2020-04-01  267.100006\n",
      "2020-05-01  279.750000\n",
      "2020-06-01  283.429993\n",
      "2020-07-01  300.100006\n",
      "2020-08-01  321.019989\n",
      "2020-09-01  307.649994\n",
      "2020-10-01  299.820007\n",
      "2020-11-01  332.640015\n",
      "2020-12-01  343.690002\n",
      "2021-01-01  351.899994\n",
      "2021-01-25  353.329987\n",
      "[[285.67767]\n",
      " [264.9862 ]\n",
      " [260.90717]\n",
      " [282.81473]\n",
      " [294.79294]\n",
      " [308.19968]\n",
      " [323.904  ]\n",
      " [328.8857 ]\n",
      " [324.67996]\n",
      " [336.55212]\n",
      " [363.28625]]\n"
     ]
    },
    {
     "data": {
      "image/png": "[encoded data removed]",
      "text/plain": [
       "<Figure size 432x288 with 1 Axes>"
      ]
     },
     "metadata": {
      "needs_background": "light"
     },
     "output_type": "display_data"
    }
   ],
   "source": [
    "#\n",
    "# Validación (predicción del valor de las acciones)\n",
    "#\n",
    "\n",
    "x_test = set_validacion.values\n",
    "x_test = sc.transform(x_test)\n",
    "\n",
    "X_test = []\n",
    "\n",
    "m = len(x_test)\n",
    "for i in range(time_step,m):\n",
    "  X_test.append(x_test[i-time_step:i,0])\n",
    "X_test = np.array(X_test)\n",
    "X_test = np.reshape(X_test, (X_test.shape[0],X_test.shape[1],1))\n",
    "\n",
    "prediccion = modelo.predict(X_test)\n",
    "prediccion = sc.inverse_transform(prediccion)\n",
    "\n",
    "# Graficar resultados\n",
    "print(set_validacion)\n",
    "print(prediccion)\n",
    "graficar_predicciones(set_validacion.values,prediccion)"
   ]
  },
  {
   "cell_type": "code",
   "execution_count": null,
   "metadata": {},
   "outputs": [],
   "source": []
  }
 ],
 "metadata": {
  "colab": {
   "collapsed_sections": [],
   "name": "presentación.ipynb",
   "provenance": [],
   "toc_visible": true
  },
  "kernelspec": {
   "display_name": "Python 3",
   "language": "python",
   "name": "python3"
  },
  "language_info": {
   "codemirror_mode": {
    "name": "ipython",
    "version": 3
   },
   "file_extension": ".py",
   "mimetype": "text/x-python",
   "name": "python",
   "nbconvert_exporter": "python",
   "pygments_lexer": "ipython3",
   "version": "3.8.3"
  }
 },
 "nbformat": 4,
 "nbformat_minor": 4
}
